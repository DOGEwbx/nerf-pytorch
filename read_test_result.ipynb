{
 "cells": [
  {
   "cell_type": "code",
   "execution_count": 39,
   "metadata": {},
   "outputs": [],
   "source": [
    "import numpy as np\n",
    "import os\n",
    "data_dir = \"/nvme/wangbingxuan/paper/EventNeRF/nerf-pytorch/logs/ijrr_test/testset_001000\"\n",
    "gt_file = \"/nvme/wangbingxuan/paper/datasets/eventnerf/test_dataset_pytorch/eventimg.npy\"\n",
    "predict_result = []\n",
    "for i in range(10): \n",
    "    predict_result.append(np.load(os.path.join(data_dir, \"{:03d}.npy\".format(i))))\n",
    "gt = np.load(gt_file)[Ellipsis,:2]"
   ]
  },
  {
   "cell_type": "code",
   "execution_count": 40,
   "metadata": {},
   "outputs": [
    {
     "name": "stdout",
     "output_type": "stream",
     "text": [
      "(51, 240, 180, 2)\n"
     ]
    },
    {
     "data": {
      "text/plain": [
       "5.866666666666665"
      ]
     },
     "execution_count": 40,
     "metadata": {},
     "output_type": "execute_result"
    }
   ],
   "source": [
    "thresh = np.array([0.3,-0.3])\n",
    "print(gt.shape)\n",
    "gt = np.sum(gt*thresh,axis=-1)\n",
    "np.sum(gt[0])*1024/240/180"
   ]
  },
  {
   "cell_type": "code",
   "execution_count": 34,
   "metadata": {},
   "outputs": [
    {
     "data": {
      "text/plain": [
       "-0.06496317545572917"
      ]
     },
     "execution_count": 34,
     "metadata": {},
     "output_type": "execute_result"
    }
   ],
   "source": [
    "np.sum(np.log(predict_result[1])-np.log(predict_result[0]))*1024/240/180"
   ]
  },
  {
   "cell_type": "code",
   "execution_count": 33,
   "metadata": {},
   "outputs": [
    {
     "data": {
      "text/plain": [
       "(240, 180, 1)"
      ]
     },
     "execution_count": 33,
     "metadata": {},
     "output_type": "execute_result"
    }
   ],
   "source": [
    "predict_result[1].shape\n"
   ]
  },
  {
   "cell_type": "code",
   "execution_count": null,
   "metadata": {},
   "outputs": [],
   "source": []
  }
 ],
 "metadata": {
  "kernelspec": {
   "display_name": "Python 3.6.13 ('jaxnerf')",
   "language": "python",
   "name": "python3"
  },
  "language_info": {
   "codemirror_mode": {
    "name": "ipython",
    "version": 3
   },
   "file_extension": ".py",
   "mimetype": "text/x-python",
   "name": "python",
   "nbconvert_exporter": "python",
   "pygments_lexer": "ipython3",
   "version": "3.6.13"
  },
  "orig_nbformat": 4,
  "vscode": {
   "interpreter": {
    "hash": "8303aa575f29846f7ab9c01499fa9235853f9c5c52299361f7375fa095cbf31a"
   }
  }
 },
 "nbformat": 4,
 "nbformat_minor": 2
}
